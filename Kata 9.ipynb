{
 "cells": [
  {
   "cell_type": "markdown",
   "metadata": {},
   "source": [
    "Ejercicio 1"
   ]
  },
  {
   "cell_type": "code",
   "execution_count": 173,
   "metadata": {},
   "outputs": [],
   "source": [
    "c1 = 0\n",
    "c2 = 0\n",
    "c3 = 0\n",
    "Prom = 0\n",
    "def CReport(c1, c2, c3):\n",
    "    Prom = (c1+c2+c3)/3\n",
    "    return f\"\"\"Resumen:\n",
    "    Tanque 1: {c1}%\n",
    "    Tanque 2: {c2}%\n",
    "    Tanque 3: {c3}%\n",
    "    Promedio: {Prom}%\n",
    "    \"\"\""
   ]
  },
  {
   "cell_type": "code",
   "execution_count": 174,
   "metadata": {},
   "outputs": [
    {
     "name": "stdout",
     "output_type": "stream",
     "text": [
      "Resumen:\n",
      "    Tanque 1: 5%\n",
      "    Tanque 2: 7%\n",
      "    Tanque 3: 9%\n",
      "    Promedio: 7.0%\n",
      "    \n"
     ]
    }
   ],
   "source": [
    "print(CReport(5,7,9))"
   ]
  },
  {
   "cell_type": "code",
   "execution_count": 175,
   "metadata": {},
   "outputs": [],
   "source": [
    "def AveReport(values):\n",
    "    All = sum(values)\n",
    "    Cantidad = len(values)\n",
    "    return All / Cantidad"
   ]
  },
  {
   "cell_type": "code",
   "execution_count": 176,
   "metadata": {},
   "outputs": [],
   "source": [
    "def CReport2(c1, c2, c3):\n",
    "    return f\"\"\"Resumen:\n",
    "    Tanque 1: {c1}%\n",
    "    Tanque 2: {c2}%\n",
    "    Tanque 3: {c3}%\n",
    "    Promedio: {AveReport ([c1,c2,c3])}%\n",
    "    \"\"\""
   ]
  },
  {
   "cell_type": "code",
   "execution_count": 177,
   "metadata": {},
   "outputs": [
    {
     "name": "stdout",
     "output_type": "stream",
     "text": [
      "Resumen:\n",
      "    Tanque 1: 5%\n",
      "    Tanque 2: 7%\n",
      "    Tanque 3: 9%\n",
      "    Promedio: 7.0%\n",
      "    \n"
     ]
    }
   ],
   "source": [
    "print(CReport2(5,7,9))"
   ]
  },
  {
   "cell_type": "markdown",
   "metadata": {},
   "source": [
    "Ejercicio 2"
   ]
  },
  {
   "cell_type": "code",
   "execution_count": 178,
   "metadata": {},
   "outputs": [
    {
     "name": "stdout",
     "output_type": "stream",
     "text": [
      "Informe de la misión:\n",
      "    Tiempo de prelanzamiento: 20 minutos\n",
      "    Tiempo de vuelo: 20 minutos\n",
      "    Destino de la misión: Tierra \n",
      "    Suma de los tanques: 25 litros\n",
      "    \n"
     ]
    }
   ],
   "source": [
    "def LReport(Lanzamiento, Vuelo, Destino, Ext, inter):\n",
    "    return f\"\"\"Informe de la misión:\n",
    "    Tiempo de prelanzamiento: {Lanzamiento} minutos\n",
    "    Tiempo de vuelo: {Vuelo} minutos\n",
    "    Destino de la misión: {Destino} \n",
    "    Suma de los tanques: {Ext + inter} litros\n",
    "    \"\"\"\n",
    "print(LReport(20, 20, \"Tierra\", 10, 15))"
   ]
  },
  {
   "cell_type": "code",
   "execution_count": 179,
   "metadata": {},
   "outputs": [
    {
     "name": "stdout",
     "output_type": "stream",
     "text": [
      "Informe de la misión:\n",
      "    Tiempo completo de vuelo: 29 minutos\n",
      "    Destino de la misión: Tierra \n",
      "    Suma de los tanques: 25 litros\n",
      "    \n"
     ]
    }
   ],
   "source": [
    "def LReport2(Destino, *Tiempo, **capacidad):\n",
    "    return f\"\"\"Informe de la misión:\n",
    "    Tiempo completo de vuelo: {sum(Tiempo)} minutos\n",
    "    Destino de la misión: {Destino} \n",
    "    Suma de los tanques: {sum(capacidad.values())} litros\n",
    "    \"\"\"\n",
    "print(LReport2(\"Tierra\", 20, 9, inter = 10, ext = 15))"
   ]
  }
 ],
 "metadata": {
  "interpreter": {
   "hash": "5e60efd442c617b2fa07a805989622713d2875cbfd6adc27c8ff36c6efdc6e89"
  },
  "kernelspec": {
   "display_name": "Python 3.10.2 64-bit (windows store)",
   "language": "python",
   "name": "python3"
  },
  "language_info": {
   "codemirror_mode": {
    "name": "ipython",
    "version": 3
   },
   "file_extension": ".py",
   "mimetype": "text/x-python",
   "name": "python",
   "nbconvert_exporter": "python",
   "pygments_lexer": "ipython3",
   "version": "3.10.2"
  },
  "orig_nbformat": 4
 },
 "nbformat": 4,
 "nbformat_minor": 2
}
