{
 "cells": [
  {
   "cell_type": "markdown",
   "metadata": {},
   "source": [
    "Ejercicio 1"
   ]
  },
  {
   "cell_type": "code",
   "execution_count": 26,
   "metadata": {},
   "outputs": [
    {
     "name": "stdout",
     "output_type": "stream",
     "text": [
      "Demasiado veloz\n"
     ]
    }
   ],
   "source": [
    "Asteroide = 49\n",
    "if Asteroide >= 25:\n",
    "    print(\"Demasiado veloz\")\n",
    "else:\n",
    "    print(\"Todo bien\")"
   ]
  },
  {
   "cell_type": "markdown",
   "metadata": {},
   "source": [
    "Ejercicio 2"
   ]
  },
  {
   "cell_type": "code",
   "execution_count": 27,
   "metadata": {},
   "outputs": [
    {
     "name": "stdout",
     "output_type": "stream",
     "text": [
      "No es posible ver ningún asteroide en este momento\n"
     ]
    }
   ],
   "source": [
    "Ast = 19\n",
    "if Ast > 20:\n",
    "    print(\"Puedes apreciar un asteroide en el cielo\")\n",
    "elif Ast == 20: \n",
    "    print(\"Puedes apreciar un asteroide en el cielo\")\n",
    "else:\n",
    "    print(\"No es posible ver ningún asteroide en este momento\")"
   ]
  },
  {
   "cell_type": "markdown",
   "metadata": {},
   "source": [
    "Ejercicio 3"
   ]
  },
  {
   "cell_type": "code",
   "execution_count": 28,
   "metadata": {},
   "outputs": [
    {
     "name": "stdout",
     "output_type": "stream",
     "text": [
      "Nada de qué preocuparse\n"
     ]
    }
   ],
   "source": [
    "velocidad = 1\n",
    "Extension = 3000\n",
    "if velocidad > 25 and 25 < Extension < 1000:\n",
    "    print(\"Advertencia de asteroide\")\n",
    "elif velocidad >= 20:\n",
    "    print(\"Se puede apreciar un asteroide en el cielo\")\n",
    "else:\n",
    "    print(\"Nada de qué preocuparse\")"
   ]
  }
 ],
 "metadata": {
  "interpreter": {
   "hash": "5e60efd442c617b2fa07a805989622713d2875cbfd6adc27c8ff36c6efdc6e89"
  },
  "kernelspec": {
   "display_name": "Python 3.10.2 64-bit (windows store)",
   "language": "python",
   "name": "python3"
  },
  "language_info": {
   "codemirror_mode": {
    "name": "ipython",
    "version": 3
   },
   "file_extension": ".py",
   "mimetype": "text/x-python",
   "name": "python",
   "nbconvert_exporter": "python",
   "pygments_lexer": "ipython3",
   "version": "3.10.2"
  },
  "orig_nbformat": 4
 },
 "nbformat": 4,
 "nbformat_minor": 2
}
