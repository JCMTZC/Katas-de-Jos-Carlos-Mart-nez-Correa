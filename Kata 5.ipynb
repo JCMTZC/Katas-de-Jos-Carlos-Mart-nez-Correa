{
 "cells": [
  {
   "cell_type": "markdown",
   "metadata": {},
   "source": [
    "Ejercicio 1"
   ]
  },
  {
   "cell_type": "code",
   "execution_count": 7,
   "metadata": {},
   "outputs": [],
   "source": [
    "Earth = 149597870 \n",
    "Jup = 778547200"
   ]
  },
  {
   "cell_type": "code",
   "execution_count": 9,
   "metadata": {},
   "outputs": [
    {
     "name": "stdout",
     "output_type": "stream",
     "text": [
      "628949330\n",
      "390577533.93\n"
     ]
    }
   ],
   "source": [
    "Distancia1 = Jup - Earth\n",
    "millas = Distancia1*0.621\n",
    "print(Distancia1)\n",
    "print(millas)"
   ]
  },
  {
   "cell_type": "markdown",
   "metadata": {},
   "source": [
    "Ejercicio 2"
   ]
  },
  {
   "cell_type": "code",
   "execution_count": 19,
   "metadata": {},
   "outputs": [],
   "source": [
    "P1 = input(\"Distancia del primer planeta con respecto al Sol: \")\n",
    "P2 = input(\"Distancia del segundo planeta con respecto al Sol: \")"
   ]
  },
  {
   "cell_type": "code",
   "execution_count": 20,
   "metadata": {},
   "outputs": [],
   "source": [
    "P1 = int(P1)\n",
    "P2 = int(P2)"
   ]
  },
  {
   "cell_type": "code",
   "execution_count": 21,
   "metadata": {},
   "outputs": [
    {
     "name": "stdout",
     "output_type": "stream",
     "text": [
      "99\n",
      "61.479\n"
     ]
    }
   ],
   "source": [
    "D1 = abs(P1-P2)\n",
    "D2 = abs(P1-P2)*0.621\n",
    "print(D1)\n",
    "print(D2)"
   ]
  }
 ],
 "metadata": {
  "interpreter": {
   "hash": "5e60efd442c617b2fa07a805989622713d2875cbfd6adc27c8ff36c6efdc6e89"
  },
  "kernelspec": {
   "display_name": "Python 3.10.2 64-bit (windows store)",
   "language": "python",
   "name": "python3"
  },
  "language_info": {
   "codemirror_mode": {
    "name": "ipython",
    "version": 3
   },
   "file_extension": ".py",
   "mimetype": "text/x-python",
   "name": "python",
   "nbconvert_exporter": "python",
   "pygments_lexer": "ipython3",
   "version": "3.10.2"
  },
  "orig_nbformat": 4
 },
 "nbformat": 4,
 "nbformat_minor": 2
}
